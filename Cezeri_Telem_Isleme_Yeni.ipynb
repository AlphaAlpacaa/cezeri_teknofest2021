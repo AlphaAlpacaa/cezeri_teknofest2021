{
 "cells": [
  {
   "cell_type": "code",
   "execution_count": 3,
   "id": "collect-biodiversity",
   "metadata": {},
   "outputs": [
    {
     "name": "stdout",
     "output_type": "stream",
     "text": [
      "[39.74878, -35.3632622] [30.47598, 149.165237] [0.189, 583.99]\n"
     ]
    },
    {
     "data": {
      "text/plain": [
       "'1-) 40.233875, 29.000618\\n2-) 40.233925, 29.008863\\n3-) 40.229286, 29.008909\\n4-) 40.230904, 29.000977'"
      ]
     },
     "execution_count": 3,
     "metadata": {},
     "output_type": "execute_result"
    }
   ],
   "source": [
    "a_x = iha_enlem\n",
    "a_y = iha_boylam\n",
    "\n",
    "b_x=[]\n",
    "b_y=[]\n",
    "b_z=[]\n",
    "b_dist=[]\n",
    "telemetriler = {'sistemSaati': {'gun': 2,\n",
    "  'saat': 10,\n",
    "  'dakika': 1,\n",
    "  'saniye': 24,\n",
    "  'milisaniye': 340},\n",
    " 'konumBilgileri': [{'takim_numarasi': 8,\n",
    "   'iha_enlem': 39.74878,\n",
    "   'iha_boylam': 30.47598,\n",
    "   'iha_irtifa': 0.189,\n",
    "   'iha_dikilme': -0.6234981,\n",
    "   'iha_yonelme': 18.0355053,\n",
    "   'iha_yatis': -3.65459085,\n",
    "   'iha_hizi': 0.112210765,\n",
    "   'zaman_farki': -10792161},\n",
    "  {'takim_numarasi': 19,\n",
    "   'iha_enlem': -35.3632622,\n",
    "   'iha_boylam': 149.165237,\n",
    "   'iha_irtifa': 583.99,\n",
    "   'iha_dikilme': 0.0,\n",
    "   'iha_yonelme': 0.0,\n",
    "   'iha_yatis': 0.0,\n",
    "   'iha_hizi': 0.0,\n",
    "   'zaman_farki': 7540340}]}\n",
    "total_competitor = len(telemetriler[\"konumBilgileri\"])\n",
    "for i in range(total_competitor):\n",
    "    b_x.append(0)\n",
    "    b_y.append(0)\n",
    "    b_z.append(0)\n",
    "for i in range(total_competitor):\n",
    "    b_x[i]=telemetriler[\"konumBilgileri\"][i]['iha_enlem']\n",
    "    b_y[i]=telemetriler[\"konumBilgileri\"][i]['iha_boylam']\n",
    "    b_z[i]=telemetriler[\"konumBilgileri\"][i]['iha_irtifa']\n",
    "    b_dist[i]= ((b_x[i]-a_x)**2+(b_y[i]-a_y)**2)**0.5\n",
    "print(b_x,b_y,b_z)\n",
    "b_temporary = b_dist[0]\n",
    "index = 0\n",
    "for i in range(total_competitor):\n",
    "    if b[i] > b_temporary:\n",
    "        b_temporary = b[i]\n",
    "        index = i\n",
    "simple_go_to(b_x[index], b_y[index], b_z[index])"
   ]
  },
  {
   "cell_type": "code",
   "execution_count": null,
   "id": "collective-cameroon",
   "metadata": {},
   "outputs": [],
   "source": []
  }
 ],
 "metadata": {
  "kernelspec": {
   "display_name": "Python 3",
   "language": "python",
   "name": "python3"
  },
  "language_info": {
   "codemirror_mode": {
    "name": "ipython",
    "version": 3
   },
   "file_extension": ".py",
   "mimetype": "text/x-python",
   "name": "python",
   "nbconvert_exporter": "python",
   "pygments_lexer": "ipython3",
   "version": "3.9.1"
  }
 },
 "nbformat": 4,
 "nbformat_minor": 5
}
